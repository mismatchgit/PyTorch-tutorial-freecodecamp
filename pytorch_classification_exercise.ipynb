{
  "nbformat": 4,
  "nbformat_minor": 0,
  "metadata": {
    "colab": {
      "provenance": [],
      "authorship_tag": "ABX9TyN9E0TSeQqy4XEf6ozsXzcm",
      "include_colab_link": true
    },
    "kernelspec": {
      "name": "python3",
      "display_name": "Python 3"
    },
    "language_info": {
      "name": "python"
    }
  },
  "cells": [
    {
      "cell_type": "markdown",
      "metadata": {
        "id": "view-in-github",
        "colab_type": "text"
      },
      "source": [
        "<a href=\"https://colab.research.google.com/github/mismatchgit/PyTorch-tutorial-freecodecamp/blob/main/pytorch_classification_exercise.ipynb\" target=\"_parent\"><img src=\"https://colab.research.google.com/assets/colab-badge.svg\" alt=\"Open In Colab\"/></a>"
      ]
    },
    {
      "cell_type": "markdown",
      "source": [
        "#1. Make a binary classification dataset with Scikit-Learn's make_moons() function."
      ],
      "metadata": {
        "id": "XqTQ9FpQqQlJ"
      }
    },
    {
      "cell_type": "code",
      "source": [
        "#import dependencies\n",
        "import torch\n",
        "import matplotlib.pyplot as plt\n",
        "from sklearn.datasets import make_moons\n",
        "from sklearn.model_selection import train_test_split\n",
        "\n",
        "# Set the hyperparameters for data creation\n",
        "NUM_CLASSES = 2\n",
        "NUM_FEATURES = 2\n",
        "RANDOM_SEED = 42"
      ],
      "metadata": {
        "id": "YUWl61YZrsHv"
      },
      "execution_count": 1,
      "outputs": []
    },
    {
      "cell_type": "code",
      "source": [
        "#Make 1000 samples\n",
        "n_samples = 1000\n",
        "#create circles\n",
        "X, y = make_moons(n_samples,\n",
        "                    noise = 0.03,                                              random_state=RANDOM_SEED)"
      ],
      "metadata": {
        "id": "79kNqtNnrRxK"
      },
      "execution_count": 2,
      "outputs": []
    },
    {
      "cell_type": "code",
      "source": [],
      "metadata": {
        "id": "ClARCL0Krd03"
      },
      "execution_count": null,
      "outputs": []
    }
  ]
}