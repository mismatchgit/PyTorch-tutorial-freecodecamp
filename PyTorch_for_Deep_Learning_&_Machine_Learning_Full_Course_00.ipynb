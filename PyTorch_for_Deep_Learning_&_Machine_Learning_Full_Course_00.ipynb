{
  "nbformat": 4,
  "nbformat_minor": 0,
  "metadata": {
    "colab": {
      "provenance": [],
      "authorship_tag": "ABX9TyN+aPyBisM+NLiXH6Hl83PN",
      "include_colab_link": true
    },
    "kernelspec": {
      "name": "python3",
      "display_name": "Python 3"
    },
    "language_info": {
      "name": "python"
    }
  },
  "cells": [
    {
      "cell_type": "markdown",
      "metadata": {
        "id": "view-in-github",
        "colab_type": "text"
      },
      "source": [
        "<a href=\"https://colab.research.google.com/github/mismatchgit/PyTorch-tutorial-freecodecamp/blob/main/PyTorch_for_Deep_Learning_%26_Machine_Learning_Full_Course_00.ipynb\" target=\"_parent\"><img src=\"https://colab.research.google.com/assets/colab-badge.svg\" alt=\"Open In Colab\"/></a>"
      ]
    },
    {
      "cell_type": "code",
      "execution_count": null,
      "metadata": {
        "colab": {
          "base_uri": "https://localhost:8080/"
        },
        "id": "VbCDdPzZ6NVs",
        "outputId": "c141637c-bd22-4c28-8db2-e0d39803e094"
      },
      "outputs": [
        {
          "output_type": "stream",
          "name": "stdout",
          "text": [
            "2.6.0+cu124\n",
            "2.0.2\n",
            "2.2.2\n"
          ]
        }
      ],
      "source": [
        "import torch\n",
        "import numpy as np\n",
        "import pandas as pd\n",
        "import matplotlib.pyplot as plt\n",
        "print(torch.__version__)\n",
        "print(np.__version__)\n",
        "print(pd.__version__)"
      ]
    },
    {
      "cell_type": "markdown",
      "source": [
        "## Intro to Tensor\n",
        "### Creating Tensors"
      ],
      "metadata": {
        "id": "y8ZVvn2B-wo6"
      }
    },
    {
      "cell_type": "code",
      "source": [
        "#scalars\n",
        "scalar = torch.tensor(7)\n",
        "scalar"
      ],
      "metadata": {
        "colab": {
          "base_uri": "https://localhost:8080/"
        },
        "id": "YNY0aOvM7Tb6",
        "outputId": "72585ac7-79cc-42ac-86bd-11cd6bc2b821"
      },
      "execution_count": null,
      "outputs": [
        {
          "output_type": "execute_result",
          "data": {
            "text/plain": [
              "tensor(7)"
            ]
          },
          "metadata": {},
          "execution_count": 2
        }
      ]
    },
    {
      "cell_type": "code",
      "source": [
        "scalar.ndim"
      ],
      "metadata": {
        "colab": {
          "base_uri": "https://localhost:8080/"
        },
        "id": "FkXZ-vka_eUV",
        "outputId": "dbf38bfa-cf03-4dbb-cacb-27ea072c274e"
      },
      "execution_count": null,
      "outputs": [
        {
          "output_type": "execute_result",
          "data": {
            "text/plain": [
              "0"
            ]
          },
          "metadata": {},
          "execution_count": 3
        }
      ]
    },
    {
      "cell_type": "code",
      "source": [
        "#Get Tensor as int\n",
        "scalar.item()"
      ],
      "metadata": {
        "colab": {
          "base_uri": "https://localhost:8080/"
        },
        "id": "VQjMTCuB_xTq",
        "outputId": "41d2f36f-5a62-4770-9983-336bfe4a0d88"
      },
      "execution_count": null,
      "outputs": [
        {
          "output_type": "execute_result",
          "data": {
            "text/plain": [
              "7"
            ]
          },
          "metadata": {},
          "execution_count": 4
        }
      ]
    },
    {
      "cell_type": "code",
      "source": [
        "#vector\n",
        "vector = torch.tensor([7,7])\n",
        "vector"
      ],
      "metadata": {
        "colab": {
          "base_uri": "https://localhost:8080/"
        },
        "id": "N9JyGuhC_2GL",
        "outputId": "ba744a35-f075-4a8d-9d31-adf5b9bc7cec"
      },
      "execution_count": null,
      "outputs": [
        {
          "output_type": "execute_result",
          "data": {
            "text/plain": [
              "tensor([7, 7])"
            ]
          },
          "metadata": {},
          "execution_count": 5
        }
      ]
    },
    {
      "cell_type": "code",
      "source": [
        "vector.ndim"
      ],
      "metadata": {
        "colab": {
          "base_uri": "https://localhost:8080/"
        },
        "id": "_1TcuCfEARHM",
        "outputId": "ed9d741e-b49d-4d46-cd8c-cf952a4d6b4d"
      },
      "execution_count": null,
      "outputs": [
        {
          "output_type": "execute_result",
          "data": {
            "text/plain": [
              "1"
            ]
          },
          "metadata": {},
          "execution_count": 6
        }
      ]
    },
    {
      "cell_type": "code",
      "source": [
        "vector.shape"
      ],
      "metadata": {
        "colab": {
          "base_uri": "https://localhost:8080/"
        },
        "id": "8-sV7dUjAS6h",
        "outputId": "929e9c93-954d-405d-e99e-1aeccd5d77d6"
      },
      "execution_count": null,
      "outputs": [
        {
          "output_type": "execute_result",
          "data": {
            "text/plain": [
              "torch.Size([2])"
            ]
          },
          "metadata": {},
          "execution_count": 7
        }
      ]
    },
    {
      "cell_type": "code",
      "source": [
        "# Matrix\n",
        "MATRIX =torch.tensor ([[7,8],\n",
        "                      [9,10]])\n",
        "MATRIX"
      ],
      "metadata": {
        "colab": {
          "base_uri": "https://localhost:8080/"
        },
        "id": "69tkY4sZAWQj",
        "outputId": "871fe9cd-f781-4625-a4d5-b13ce0537ecd"
      },
      "execution_count": null,
      "outputs": [
        {
          "output_type": "execute_result",
          "data": {
            "text/plain": [
              "tensor([[ 7,  8],\n",
              "        [ 9, 10]])"
            ]
          },
          "metadata": {},
          "execution_count": 8
        }
      ]
    },
    {
      "cell_type": "code",
      "source": [
        "MATRIX.ndim"
      ],
      "metadata": {
        "colab": {
          "base_uri": "https://localhost:8080/"
        },
        "id": "PfcpeIyKAklt",
        "outputId": "045b5f3f-c800-472a-c63d-45593dec50d0"
      },
      "execution_count": null,
      "outputs": [
        {
          "output_type": "execute_result",
          "data": {
            "text/plain": [
              "2"
            ]
          },
          "metadata": {},
          "execution_count": 9
        }
      ]
    },
    {
      "cell_type": "code",
      "source": [
        "MATRIX.shape"
      ],
      "metadata": {
        "colab": {
          "base_uri": "https://localhost:8080/"
        },
        "id": "4Fbwf-CGBBrK",
        "outputId": "9be925c5-ca7a-4be4-833c-e2cb503a1dee"
      },
      "execution_count": null,
      "outputs": [
        {
          "output_type": "execute_result",
          "data": {
            "text/plain": [
              "torch.Size([2, 2])"
            ]
          },
          "metadata": {},
          "execution_count": 10
        }
      ]
    },
    {
      "cell_type": "code",
      "source": [
        "# TEnsor\n",
        "TENSOR = torch.tensor([[[1,2,3],\n",
        "                        [3,6,9],\n",
        "                        [2,4,5]]])\n",
        "\n",
        "TENSOR2 = torch.tensor([[[[1,2,3],\n",
        "                        [3,6,9],\n",
        "                        [2,4,5],\n",
        "                        [1,5,7]],\n",
        "                        [[2,2,3],\n",
        "                        [3,6,9],\n",
        "                        [2,4,5],\n",
        "                        [1,5,7]]],\n",
        "                        [[[2,2,3],\n",
        "                        [3,6,9],\n",
        "                        [2,4,5],\n",
        "                        [1,5,7]],\n",
        "                        [[2,2,3],\n",
        "                        [3,6,9],\n",
        "                        [2,4,5],\n",
        "                        [1,5,7]]]])\n",
        "TENSOR"
      ],
      "metadata": {
        "colab": {
          "base_uri": "https://localhost:8080/"
        },
        "id": "_ePhDsZbBE3j",
        "outputId": "7487ae65-ba59-4a7f-9dd8-9eed8f5fe0c6"
      },
      "execution_count": null,
      "outputs": [
        {
          "output_type": "execute_result",
          "data": {
            "text/plain": [
              "tensor([[[1, 2, 3],\n",
              "         [3, 6, 9],\n",
              "         [2, 4, 5]]])"
            ]
          },
          "metadata": {},
          "execution_count": 11
        }
      ]
    },
    {
      "cell_type": "code",
      "source": [
        "TENSOR2.ndim"
      ],
      "metadata": {
        "colab": {
          "base_uri": "https://localhost:8080/"
        },
        "id": "1dLulTh-Bfo5",
        "outputId": "e2ce5792-9c0e-492c-8179-92c696284cd5"
      },
      "execution_count": null,
      "outputs": [
        {
          "output_type": "execute_result",
          "data": {
            "text/plain": [
              "4"
            ]
          },
          "metadata": {},
          "execution_count": 12
        }
      ]
    },
    {
      "cell_type": "code",
      "source": [
        "TENSOR2.shape"
      ],
      "metadata": {
        "colab": {
          "base_uri": "https://localhost:8080/"
        },
        "id": "YrCJI_HPBi3p",
        "outputId": "1bcdbf3e-772d-41d6-ffae-081db3128664"
      },
      "execution_count": null,
      "outputs": [
        {
          "output_type": "execute_result",
          "data": {
            "text/plain": [
              "torch.Size([2, 2, 4, 3])"
            ]
          },
          "metadata": {},
          "execution_count": 13
        }
      ]
    },
    {
      "cell_type": "code",
      "source": [
        "TENSOR2[0][1]"
      ],
      "metadata": {
        "colab": {
          "base_uri": "https://localhost:8080/"
        },
        "id": "Jg1yENz5BmGf",
        "outputId": "b8e89fb1-8cf8-4e07-95e0-fcbda0915a10"
      },
      "execution_count": null,
      "outputs": [
        {
          "output_type": "execute_result",
          "data": {
            "text/plain": [
              "tensor([[2, 2, 3],\n",
              "        [3, 6, 9],\n",
              "        [2, 4, 5],\n",
              "        [1, 5, 7]])"
            ]
          },
          "metadata": {},
          "execution_count": 14
        }
      ]
    },
    {
      "cell_type": "markdown",
      "source": [
        "## Random Tensors"
      ],
      "metadata": {
        "id": "lhQUpeyZB0mO"
      }
    },
    {
      "cell_type": "code",
      "source": [
        "#create a random tensor\n",
        "random_tensor = torch.rand(3,3,5)\n",
        "random_tensor"
      ],
      "metadata": {
        "colab": {
          "base_uri": "https://localhost:8080/"
        },
        "id": "PyHo40-ULgtX",
        "outputId": "31039153-b448-49c9-b2fa-bc7f2c3e56f6"
      },
      "execution_count": null,
      "outputs": [
        {
          "output_type": "execute_result",
          "data": {
            "text/plain": [
              "tensor([[[0.2087, 0.8583, 0.7211, 0.7225, 0.7868],\n",
              "         [0.4491, 0.8487, 0.4163, 0.0237, 0.1126],\n",
              "         [0.4151, 0.9510, 0.0363, 0.3547, 0.3769]],\n",
              "\n",
              "        [[0.2826, 0.2567, 0.9086, 0.1411, 0.8738],\n",
              "         [0.9585, 0.5039, 0.2618, 0.2902, 0.9835],\n",
              "         [0.2415, 0.5648, 0.3023, 0.1863, 0.0074]],\n",
              "\n",
              "        [[0.5607, 0.7263, 0.2650, 0.8154, 0.3279],\n",
              "         [0.4200, 0.7573, 0.7905, 0.3894, 0.6233],\n",
              "         [0.2274, 0.5487, 0.5428, 0.0461, 0.8326]]])"
            ]
          },
          "metadata": {},
          "execution_count": 15
        }
      ]
    },
    {
      "cell_type": "code",
      "source": [
        "#create a random tensor with similar shape to an image sensor\n",
        "random_image_size_tensor = torch.rand(size=(3,224,224)) #Height, width, RGB(Color channel)\n",
        "random_image_size_tensor.shape, random_image_size_tensor.ndim"
      ],
      "metadata": {
        "colab": {
          "base_uri": "https://localhost:8080/"
        },
        "id": "AA2t42dmMx7E",
        "outputId": "ea45f08c-6362-427d-d0db-518588eb104b"
      },
      "execution_count": null,
      "outputs": [
        {
          "output_type": "execute_result",
          "data": {
            "text/plain": [
              "(torch.Size([3, 224, 224]), 3)"
            ]
          },
          "metadata": {},
          "execution_count": 16
        }
      ]
    },
    {
      "cell_type": "markdown",
      "source": [
        "## Zeroes and Ones"
      ],
      "metadata": {
        "id": "ghjoyUJwNx-k"
      }
    },
    {
      "cell_type": "code",
      "source": [
        "# Create a tensor of all zeroes\n",
        "zeros = torch.zeros(size=(3,4))\n",
        "zeros"
      ],
      "metadata": {
        "colab": {
          "base_uri": "https://localhost:8080/"
        },
        "id": "1B5lfEI9afFU",
        "outputId": "5af3c83e-ad8a-4c79-df41-0570850219c8"
      },
      "execution_count": null,
      "outputs": [
        {
          "output_type": "execute_result",
          "data": {
            "text/plain": [
              "tensor([[0., 0., 0., 0.],\n",
              "        [0., 0., 0., 0.],\n",
              "        [0., 0., 0., 0.]])"
            ]
          },
          "metadata": {},
          "execution_count": 17
        }
      ]
    },
    {
      "cell_type": "code",
      "source": [
        "zeros*random_tensor"
      ],
      "metadata": {
        "colab": {
          "base_uri": "https://localhost:8080/",
          "height": 141
        },
        "id": "FQNmw1qdaqhz",
        "outputId": "5a9ecf38-7f46-42e2-87c9-b2903049ad0e"
      },
      "execution_count": null,
      "outputs": [
        {
          "output_type": "error",
          "ename": "RuntimeError",
          "evalue": "The size of tensor a (4) must match the size of tensor b (5) at non-singleton dimension 2",
          "traceback": [
            "\u001b[0;31m---------------------------------------------------------------------------\u001b[0m",
            "\u001b[0;31mRuntimeError\u001b[0m                              Traceback (most recent call last)",
            "\u001b[0;32m<ipython-input-18-ed9ed40bb413>\u001b[0m in \u001b[0;36m<cell line: 0>\u001b[0;34m()\u001b[0m\n\u001b[0;32m----> 1\u001b[0;31m \u001b[0mzeros\u001b[0m\u001b[0;34m*\u001b[0m\u001b[0mrandom_tensor\u001b[0m\u001b[0;34m\u001b[0m\u001b[0;34m\u001b[0m\u001b[0m\n\u001b[0m",
            "\u001b[0;31mRuntimeError\u001b[0m: The size of tensor a (4) must match the size of tensor b (5) at non-singleton dimension 2"
          ]
        }
      ]
    },
    {
      "cell_type": "code",
      "source": [
        "#Create a tensor of ones\n",
        "ones = torch.ones(size=(3,4))\n",
        "ones"
      ],
      "metadata": {
        "colab": {
          "base_uri": "https://localhost:8080/"
        },
        "id": "ObtT5NTwax_-",
        "outputId": "4e26403c-5117-4a84-b95b-6200403fa20b"
      },
      "execution_count": null,
      "outputs": [
        {
          "output_type": "execute_result",
          "data": {
            "text/plain": [
              "tensor([[1., 1., 1., 1.],\n",
              "        [1., 1., 1., 1.],\n",
              "        [1., 1., 1., 1.]])"
            ]
          },
          "metadata": {},
          "execution_count": 19
        }
      ]
    },
    {
      "cell_type": "code",
      "source": [
        "ones.dtype"
      ],
      "metadata": {
        "colab": {
          "base_uri": "https://localhost:8080/"
        },
        "id": "PT-FpREVa70y",
        "outputId": "ff98a9e5-f613-49cd-f27a-a4335dd1105d"
      },
      "execution_count": null,
      "outputs": [
        {
          "output_type": "execute_result",
          "data": {
            "text/plain": [
              "torch.float32"
            ]
          },
          "metadata": {},
          "execution_count": 20
        }
      ]
    },
    {
      "cell_type": "markdown",
      "source": [
        "##Creating a range of tensors and tensors-like"
      ],
      "metadata": {
        "id": "mL2nXs8WbBqR"
      }
    },
    {
      "cell_type": "code",
      "source": [
        "torch.range(0,10)"
      ],
      "metadata": {
        "colab": {
          "base_uri": "https://localhost:8080/"
        },
        "id": "_-3FC1XjbSzy",
        "outputId": "2c7839b1-ef92-4431-936e-421ec5f356c3"
      },
      "execution_count": null,
      "outputs": [
        {
          "output_type": "stream",
          "name": "stderr",
          "text": [
            "<ipython-input-21-dfdec9b83f7d>:1: UserWarning: torch.range is deprecated and will be removed in a future release because its behavior is inconsistent with Python's range builtin. Instead, use torch.arange, which produces values in [start, end).\n",
            "  torch.range(0,10)\n"
          ]
        },
        {
          "output_type": "execute_result",
          "data": {
            "text/plain": [
              "tensor([ 0.,  1.,  2.,  3.,  4.,  5.,  6.,  7.,  8.,  9., 10.])"
            ]
          },
          "metadata": {},
          "execution_count": 21
        }
      ]
    },
    {
      "cell_type": "code",
      "source": [
        "one_to_ten = torch.arange(0,10)\n",
        "one_to_ten"
      ],
      "metadata": {
        "colab": {
          "base_uri": "https://localhost:8080/"
        },
        "id": "jva8d1wzbYVP",
        "outputId": "2589220b-c0f9-4d59-a5cd-ba7d3d08e143"
      },
      "execution_count": null,
      "outputs": [
        {
          "output_type": "execute_result",
          "data": {
            "text/plain": [
              "tensor([0, 1, 2, 3, 4, 5, 6, 7, 8, 9])"
            ]
          },
          "metadata": {},
          "execution_count": 22
        }
      ]
    },
    {
      "cell_type": "code",
      "source": [
        "#creating tensors-like\n",
        "ten_zeros = torch.zeros_like(input=random_tensor)\n",
        "ten_zeros"
      ],
      "metadata": {
        "colab": {
          "base_uri": "https://localhost:8080/"
        },
        "id": "gX4wv4vUbi-7",
        "outputId": "42419a6b-58d7-492b-c5b1-c7faf5891c78"
      },
      "execution_count": null,
      "outputs": [
        {
          "output_type": "execute_result",
          "data": {
            "text/plain": [
              "tensor([[[0., 0., 0., 0., 0.],\n",
              "         [0., 0., 0., 0., 0.],\n",
              "         [0., 0., 0., 0., 0.]],\n",
              "\n",
              "        [[0., 0., 0., 0., 0.],\n",
              "         [0., 0., 0., 0., 0.],\n",
              "         [0., 0., 0., 0., 0.]],\n",
              "\n",
              "        [[0., 0., 0., 0., 0.],\n",
              "         [0., 0., 0., 0., 0.],\n",
              "         [0., 0., 0., 0., 0.]]])"
            ]
          },
          "metadata": {},
          "execution_count": 24
        }
      ]
    },
    {
      "cell_type": "markdown",
      "source": [
        "## Tensor Datatypes\n",
        "Note: Top 3 Errors\n",
        "\n",
        "\n",
        "1.   tensors not right datatype\n",
        "1.   tensors not righht shape (In the case of zeros*random_tensor)\n",
        "2.   tensors not in the right device\n",
        "\n",
        "\n",
        "\n",
        "\n"
      ],
      "metadata": {
        "id": "OmexqX3fcf5L"
      }
    },
    {
      "cell_type": "code",
      "source": [
        "#Float Tensors\n",
        "float_32_tensor = torch.tensor([3.0,6.0,9.0],\n",
        "                               dtype=None, #What datatype is the tensor (e.g. float32 or float16)\n",
        "                               device=None, #cpu.gpu,tpu,cuda etc\n",
        "                               requires_grad=False) #whether or not to track gradients\n",
        "float_32_tensor"
      ],
      "metadata": {
        "colab": {
          "base_uri": "https://localhost:8080/"
        },
        "id": "iLYoLnI8crGF",
        "outputId": "d32003ad-81ba-4c89-c13b-186c1b4da2b7"
      },
      "execution_count": null,
      "outputs": [
        {
          "output_type": "execute_result",
          "data": {
            "text/plain": [
              "tensor([3., 6., 9.])"
            ]
          },
          "metadata": {},
          "execution_count": 25
        }
      ]
    },
    {
      "cell_type": "code",
      "source": [
        "float_32_tensor.dtype"
      ],
      "metadata": {
        "colab": {
          "base_uri": "https://localhost:8080/"
        },
        "id": "H_QQEPKfd3oO",
        "outputId": "d2347b39-a9eb-4a04-b077-d9e93c16b222"
      },
      "execution_count": null,
      "outputs": [
        {
          "output_type": "execute_result",
          "data": {
            "text/plain": [
              "torch.float32"
            ]
          },
          "metadata": {},
          "execution_count": 26
        }
      ]
    },
    {
      "cell_type": "code",
      "source": [
        "#converting data type\n",
        "float_16_tensor = float_32_tensor.type(torch.float16)\n",
        "float_16_tensor"
      ],
      "metadata": {
        "colab": {
          "base_uri": "https://localhost:8080/"
        },
        "id": "f4XimgEehF6v",
        "outputId": "8cd68ce6-7970-4732-eb10-fff0438909bc"
      },
      "execution_count": null,
      "outputs": [
        {
          "output_type": "execute_result",
          "data": {
            "text/plain": [
              "tensor([3., 6., 9.], dtype=torch.float16)"
            ]
          },
          "metadata": {},
          "execution_count": 27
        }
      ]
    },
    {
      "cell_type": "markdown",
      "source": [
        "## Tensor Manipulation"
      ],
      "metadata": {
        "id": "tRnAbcabhct5"
      }
    },
    {
      "cell_type": "code",
      "source": [
        "#tensor Multiplication\n",
        "mul_tensor = torch.tensor([1,2,3])\n",
        "print(mul_tensor * 10)\n",
        "matrix_mul_tensor1 = torch.tensor([[1,2,3],\n",
        "                                 [4,5,6]])\n",
        "matrix_mul_tensor1.shape\n",
        "matrix_mul_tensor2 = torch.tensor([[3,2,1],\n",
        "                                 [6,5,4]])\n",
        "matrix_mul_tensor2.shape\n",
        "torch.matmul(matrix_mul_tensor1,matrix_mul_tensor2)#doesn't work as expected (Shape mismatch)\n",
        "torch.matmul(matrix_mul_tensor1,matrix_mul_tensor2.T)#Transposes the tensor"
      ],
      "metadata": {
        "colab": {
          "base_uri": "https://localhost:8080/"
        },
        "id": "PkPfng_0NOjt",
        "outputId": "f06842f5-1794-4045-aa2c-e07505ce5b1c"
      },
      "execution_count": null,
      "outputs": [
        {
          "output_type": "stream",
          "name": "stdout",
          "text": [
            "tensor([10, 20, 30])\n"
          ]
        },
        {
          "output_type": "execute_result",
          "data": {
            "text/plain": [
              "tensor([[10, 28],\n",
              "        [28, 73]])"
            ]
          },
          "metadata": {},
          "execution_count": 39
        }
      ]
    },
    {
      "cell_type": "code",
      "source": [
        "#difference between amtmul and for_loop\n",
        "%%time\n",
        "value = torch.zeros(size=(2,2))\n",
        "matrix_mul_tensor2T = matrix_mul_tensor2.T\n",
        "for i in range(matrix_mul_tensor1.shape[0]):\n",
        "  for j in range(matrix_mul_tensor2T.shape[1]):\n",
        "    for k in range(matrix_mul_tensor2T.shape[0]):\n",
        "      value[i,j] += matrix_mul_tensor1[i][k] * matrix_mul_tensor2T[k][j]\n",
        "\n",
        "print(value)"
      ],
      "metadata": {
        "colab": {
          "base_uri": "https://localhost:8080/"
        },
        "id": "vjVwm6-ZNUoB",
        "outputId": "b7f19229-1467-40f1-d579-f6626ffcfb21"
      },
      "execution_count": null,
      "outputs": [
        {
          "output_type": "stream",
          "name": "stdout",
          "text": [
            "tensor([[10., 28.],\n",
            "        [28., 73.]])\n",
            "CPU times: user 2.69 ms, sys: 0 ns, total: 2.69 ms\n",
            "Wall time: 2.56 ms\n"
          ]
        }
      ]
    },
    {
      "cell_type": "code",
      "source": [
        "%%time\n",
        "torch.matmul(matrix_mul_tensor1,matrix_mul_tensor2.T)#Transposes the tensor"
      ],
      "metadata": {
        "colab": {
          "base_uri": "https://localhost:8080/"
        },
        "id": "J_fMrBnpcORB",
        "outputId": "a325886a-70cc-451d-f499-b3e5d30bf095"
      },
      "execution_count": null,
      "outputs": [
        {
          "output_type": "stream",
          "name": "stdout",
          "text": [
            "CPU times: user 633 µs, sys: 0 ns, total: 633 µs\n",
            "Wall time: 506 µs\n"
          ]
        },
        {
          "output_type": "execute_result",
          "data": {
            "text/plain": [
              "tensor([[10, 28],\n",
              "        [28, 73]])"
            ]
          },
          "metadata": {},
          "execution_count": 56
        }
      ]
    },
    {
      "cell_type": "code",
      "source": [
        "# Since the linear layer starts with a random weights matrix, let's make it reproducible (more on this later)\n",
        "torch.manual_seed(42)\n",
        "# This uses matrix multiplication\n",
        "linear = torch.nn.Linear(in_features=3, # in_features = matches inner dimension of input\n",
        "                         out_features=6) # out_features = describes outer value\n",
        "x = torch.tensor([[1, 2, 3],\n",
        "                  [3, 4, 5],\n",
        "                  [5, 6, 7]], dtype=torch.float32)\n",
        "output = linear(x)\n",
        "print(f\"Input shape: {x.shape}\\n\")\n",
        "print(f\"Output:\\n{output}\\n\\nOutput shape: {output.shape}\")"
      ],
      "metadata": {
        "colab": {
          "base_uri": "https://localhost:8080/"
        },
        "id": "btb28srauRTk",
        "outputId": "3efe65c2-4bf5-4c98-8da4-23b7af31f5c2"
      },
      "execution_count": null,
      "outputs": [
        {
          "output_type": "stream",
          "name": "stdout",
          "text": [
            "Input shape: torch.Size([3, 3])\n",
            "\n",
            "Output:\n",
            "tensor([[0.7245, 0.7740, 1.6579, 0.8366, 1.1836, 1.4476],\n",
            "        [2.2952, 1.8148, 2.7918, 1.2092, 2.7499, 2.3454],\n",
            "        [3.8659, 2.8555, 3.9257, 1.5819, 4.3161, 3.2432]],\n",
            "       grad_fn=<AddmmBackward0>)\n",
            "\n",
            "Output shape: torch.Size([3, 6])\n"
          ]
        }
      ]
    },
    {
      "cell_type": "markdown",
      "source": [
        "## Tensor Aggregation"
      ],
      "metadata": {
        "id": "NDr-uclFd1pA"
      }
    },
    {
      "cell_type": "code",
      "source": [
        "#need to convert datatype for getting mean()\n",
        "x = torch.arange(1,100,5)\n",
        "x.type(torch.float32).mean()"
      ],
      "metadata": {
        "colab": {
          "base_uri": "https://localhost:8080/"
        },
        "id": "KmYalsqaqdwV",
        "outputId": "611d010f-be3b-44c2-de8a-c8ab2a61074d"
      },
      "execution_count": null,
      "outputs": [
        {
          "output_type": "execute_result",
          "data": {
            "text/plain": [
              "tensor(48.5000)"
            ]
          },
          "metadata": {},
          "execution_count": 49
        }
      ]
    },
    {
      "cell_type": "markdown",
      "source": [
        "## Finding positional min and max"
      ],
      "metadata": {
        "id": "lcHl-WHpqpzb"
      }
    },
    {
      "cell_type": "code",
      "source": [
        "x.argmin()"
      ],
      "metadata": {
        "colab": {
          "base_uri": "https://localhost:8080/"
        },
        "id": "Fu9tUE_rrcOM",
        "outputId": "7a2fa6b7-5bbf-4cd5-ba8c-6ff46db529da"
      },
      "execution_count": null,
      "outputs": [
        {
          "output_type": "execute_result",
          "data": {
            "text/plain": [
              "tensor(0)"
            ]
          },
          "metadata": {},
          "execution_count": 50
        }
      ]
    },
    {
      "cell_type": "code",
      "source": [
        "x.argmax()"
      ],
      "metadata": {
        "colab": {
          "base_uri": "https://localhost:8080/"
        },
        "id": "AcQMlGtJrfnz",
        "outputId": "33b07ad0-deea-4700-ea0e-0d975d8ec700"
      },
      "execution_count": null,
      "outputs": [
        {
          "output_type": "execute_result",
          "data": {
            "text/plain": [
              "tensor(19)"
            ]
          },
          "metadata": {},
          "execution_count": 51
        }
      ]
    },
    {
      "cell_type": "markdown",
      "source": [
        "## Reshaping, stacking, squeezing and unsqueezing tensors"
      ],
      "metadata": {
        "id": "TeeNBefqrhU3"
      }
    },
    {
      "cell_type": "code",
      "source": [
        "import torch\n",
        "x = torch.arange(1.,101.)\n",
        "x, x.shape"
      ],
      "metadata": {
        "id": "6KXmn2LXsRTw",
        "colab": {
          "base_uri": "https://localhost:8080/"
        },
        "outputId": "e7a9254a-62e0-427c-b079-667b13904d0c"
      },
      "execution_count": 5,
      "outputs": [
        {
          "output_type": "execute_result",
          "data": {
            "text/plain": [
              "(tensor([  1.,   2.,   3.,   4.,   5.,   6.,   7.,   8.,   9.,  10.,  11.,  12.,\n",
              "          13.,  14.,  15.,  16.,  17.,  18.,  19.,  20.,  21.,  22.,  23.,  24.,\n",
              "          25.,  26.,  27.,  28.,  29.,  30.,  31.,  32.,  33.,  34.,  35.,  36.,\n",
              "          37.,  38.,  39.,  40.,  41.,  42.,  43.,  44.,  45.,  46.,  47.,  48.,\n",
              "          49.,  50.,  51.,  52.,  53.,  54.,  55.,  56.,  57.,  58.,  59.,  60.,\n",
              "          61.,  62.,  63.,  64.,  65.,  66.,  67.,  68.,  69.,  70.,  71.,  72.,\n",
              "          73.,  74.,  75.,  76.,  77.,  78.,  79.,  80.,  81.,  82.,  83.,  84.,\n",
              "          85.,  86.,  87.,  88.,  89.,  90.,  91.,  92.,  93.,  94.,  95.,  96.,\n",
              "          97.,  98.,  99., 100.]),\n",
              " torch.Size([100]))"
            ]
          },
          "metadata": {},
          "execution_count": 5
        }
      ]
    },
    {
      "cell_type": "code",
      "source": [
        "#add dimension\n",
        "#x_reshaped = x.reshape(10,10)\n",
        "#x_reshaped = x.reshape(2,5,10)\n",
        "x_reshaped = x.reshape(2,2,5,5)\n",
        "x_reshaped, x_reshaped.shape,x_reshaped.ndim"
      ],
      "metadata": {
        "colab": {
          "base_uri": "https://localhost:8080/"
        },
        "id": "jeFPvLPP8vgR",
        "outputId": "0185a02d-7492-42d3-c348-7311eaf25302"
      },
      "execution_count": 10,
      "outputs": [
        {
          "output_type": "execute_result",
          "data": {
            "text/plain": [
              "(tensor([[[[  1.,   2.,   3.,   4.,   5.],\n",
              "           [  6.,   7.,   8.,   9.,  10.],\n",
              "           [ 11.,  12.,  13.,  14.,  15.],\n",
              "           [ 16.,  17.,  18.,  19.,  20.],\n",
              "           [ 21.,  22.,  23.,  24.,  25.]],\n",
              " \n",
              "          [[ 26.,  27.,  28.,  29.,  30.],\n",
              "           [ 31.,  32.,  33.,  34.,  35.],\n",
              "           [ 36.,  37.,  38.,  39.,  40.],\n",
              "           [ 41.,  42.,  43.,  44.,  45.],\n",
              "           [ 46.,  47.,  48.,  49.,  50.]]],\n",
              " \n",
              " \n",
              "         [[[ 51.,  52.,  53.,  54.,  55.],\n",
              "           [ 56.,  57.,  58.,  59.,  60.],\n",
              "           [ 61.,  62.,  63.,  64.,  65.],\n",
              "           [ 66.,  67.,  68.,  69.,  70.],\n",
              "           [ 71.,  72.,  73.,  74.,  75.]],\n",
              " \n",
              "          [[ 76.,  77.,  78.,  79.,  80.],\n",
              "           [ 81.,  82.,  83.,  84.,  85.],\n",
              "           [ 86.,  87.,  88.,  89.,  90.],\n",
              "           [ 91.,  92.,  93.,  94.,  95.],\n",
              "           [ 96.,  97.,  98.,  99., 100.]]]]),\n",
              " torch.Size([2, 2, 5, 5]),\n",
              " 4)"
            ]
          },
          "metadata": {},
          "execution_count": 10
        }
      ]
    },
    {
      "cell_type": "code",
      "source": [
        "# Change view (keeps same data as original but changes view)\n",
        "# See more: https://stackoverflow.com/a/54507446/7900723\n",
        "z = x.view(1, 100)\n",
        "z, z.shape"
      ],
      "metadata": {
        "colab": {
          "base_uri": "https://localhost:8080/"
        },
        "id": "6AudQjod9ERJ",
        "outputId": "9c05d510-576d-4082-e41c-324233cafaaa"
      },
      "execution_count": 12,
      "outputs": [
        {
          "output_type": "execute_result",
          "data": {
            "text/plain": [
              "(tensor([[  1.,   2.,   3.,   4.,   5.,   6.,   7.,   8.,   9.,  10.,  11.,  12.,\n",
              "           13.,  14.,  15.,  16.,  17.,  18.,  19.,  20.,  21.,  22.,  23.,  24.,\n",
              "           25.,  26.,  27.,  28.,  29.,  30.,  31.,  32.,  33.,  34.,  35.,  36.,\n",
              "           37.,  38.,  39.,  40.,  41.,  42.,  43.,  44.,  45.,  46.,  47.,  48.,\n",
              "           49.,  50.,  51.,  52.,  53.,  54.,  55.,  56.,  57.,  58.,  59.,  60.,\n",
              "           61.,  62.,  63.,  64.,  65.,  66.,  67.,  68.,  69.,  70.,  71.,  72.,\n",
              "           73.,  74.,  75.,  76.,  77.,  78.,  79.,  80.,  81.,  82.,  83.,  84.,\n",
              "           85.,  86.,  87.,  88.,  89.,  90.,  91.,  92.,  93.,  94.,  95.,  96.,\n",
              "           97.,  98.,  99., 100.]]),\n",
              " torch.Size([1, 100]))"
            ]
          },
          "metadata": {},
          "execution_count": 12
        }
      ]
    },
    {
      "cell_type": "code",
      "source": [
        "# Changing z changes x\n",
        "z[:, 0] = 5\n",
        "z, x"
      ],
      "metadata": {
        "colab": {
          "base_uri": "https://localhost:8080/"
        },
        "id": "GFNfisn--x0K",
        "outputId": "3ef738ed-59af-466f-8a97-e453dd1a00de"
      },
      "execution_count": 13,
      "outputs": [
        {
          "output_type": "execute_result",
          "data": {
            "text/plain": [
              "(tensor([[  5.,   2.,   3.,   4.,   5.,   6.,   7.,   8.,   9.,  10.,  11.,  12.,\n",
              "           13.,  14.,  15.,  16.,  17.,  18.,  19.,  20.,  21.,  22.,  23.,  24.,\n",
              "           25.,  26.,  27.,  28.,  29.,  30.,  31.,  32.,  33.,  34.,  35.,  36.,\n",
              "           37.,  38.,  39.,  40.,  41.,  42.,  43.,  44.,  45.,  46.,  47.,  48.,\n",
              "           49.,  50.,  51.,  52.,  53.,  54.,  55.,  56.,  57.,  58.,  59.,  60.,\n",
              "           61.,  62.,  63.,  64.,  65.,  66.,  67.,  68.,  69.,  70.,  71.,  72.,\n",
              "           73.,  74.,  75.,  76.,  77.,  78.,  79.,  80.,  81.,  82.,  83.,  84.,\n",
              "           85.,  86.,  87.,  88.,  89.,  90.,  91.,  92.,  93.,  94.,  95.,  96.,\n",
              "           97.,  98.,  99., 100.]]),\n",
              " tensor([  5.,   2.,   3.,   4.,   5.,   6.,   7.,   8.,   9.,  10.,  11.,  12.,\n",
              "          13.,  14.,  15.,  16.,  17.,  18.,  19.,  20.,  21.,  22.,  23.,  24.,\n",
              "          25.,  26.,  27.,  28.,  29.,  30.,  31.,  32.,  33.,  34.,  35.,  36.,\n",
              "          37.,  38.,  39.,  40.,  41.,  42.,  43.,  44.,  45.,  46.,  47.,  48.,\n",
              "          49.,  50.,  51.,  52.,  53.,  54.,  55.,  56.,  57.,  58.,  59.,  60.,\n",
              "          61.,  62.,  63.,  64.,  65.,  66.,  67.,  68.,  69.,  70.,  71.,  72.,\n",
              "          73.,  74.,  75.,  76.,  77.,  78.,  79.,  80.,  81.,  82.,  83.,  84.,\n",
              "          85.,  86.,  87.,  88.,  89.,  90.,  91.,  92.,  93.,  94.,  95.,  96.,\n",
              "          97.,  98.,  99., 100.]))"
            ]
          },
          "metadata": {},
          "execution_count": 13
        }
      ]
    },
    {
      "cell_type": "code",
      "source": [
        "# Stack tensors on top of each other\n",
        "x_stacked = torch.stack([x,x,x], dim=0)\n",
        "x_stacked, x_stacked.shape"
      ],
      "metadata": {
        "colab": {
          "base_uri": "https://localhost:8080/"
        },
        "id": "3FA5RDdQ-8Dk",
        "outputId": "8d271d9f-26a0-4289-b7ad-7554e692c2fc"
      },
      "execution_count": 20,
      "outputs": [
        {
          "output_type": "execute_result",
          "data": {
            "text/plain": [
              "(tensor([[  5.,   2.,   3.,   4.,   5.,   6.,   7.,   8.,   9.,  10.,  11.,  12.,\n",
              "           13.,  14.,  15.,  16.,  17.,  18.,  19.,  20.,  21.,  22.,  23.,  24.,\n",
              "           25.,  26.,  27.,  28.,  29.,  30.,  31.,  32.,  33.,  34.,  35.,  36.,\n",
              "           37.,  38.,  39.,  40.,  41.,  42.,  43.,  44.,  45.,  46.,  47.,  48.,\n",
              "           49.,  50.,  51.,  52.,  53.,  54.,  55.,  56.,  57.,  58.,  59.,  60.,\n",
              "           61.,  62.,  63.,  64.,  65.,  66.,  67.,  68.,  69.,  70.,  71.,  72.,\n",
              "           73.,  74.,  75.,  76.,  77.,  78.,  79.,  80.,  81.,  82.,  83.,  84.,\n",
              "           85.,  86.,  87.,  88.,  89.,  90.,  91.,  92.,  93.,  94.,  95.,  96.,\n",
              "           97.,  98.,  99., 100.],\n",
              "         [  5.,   2.,   3.,   4.,   5.,   6.,   7.,   8.,   9.,  10.,  11.,  12.,\n",
              "           13.,  14.,  15.,  16.,  17.,  18.,  19.,  20.,  21.,  22.,  23.,  24.,\n",
              "           25.,  26.,  27.,  28.,  29.,  30.,  31.,  32.,  33.,  34.,  35.,  36.,\n",
              "           37.,  38.,  39.,  40.,  41.,  42.,  43.,  44.,  45.,  46.,  47.,  48.,\n",
              "           49.,  50.,  51.,  52.,  53.,  54.,  55.,  56.,  57.,  58.,  59.,  60.,\n",
              "           61.,  62.,  63.,  64.,  65.,  66.,  67.,  68.,  69.,  70.,  71.,  72.,\n",
              "           73.,  74.,  75.,  76.,  77.,  78.,  79.,  80.,  81.,  82.,  83.,  84.,\n",
              "           85.,  86.,  87.,  88.,  89.,  90.,  91.,  92.,  93.,  94.,  95.,  96.,\n",
              "           97.,  98.,  99., 100.],\n",
              "         [  5.,   2.,   3.,   4.,   5.,   6.,   7.,   8.,   9.,  10.,  11.,  12.,\n",
              "           13.,  14.,  15.,  16.,  17.,  18.,  19.,  20.,  21.,  22.,  23.,  24.,\n",
              "           25.,  26.,  27.,  28.,  29.,  30.,  31.,  32.,  33.,  34.,  35.,  36.,\n",
              "           37.,  38.,  39.,  40.,  41.,  42.,  43.,  44.,  45.,  46.,  47.,  48.,\n",
              "           49.,  50.,  51.,  52.,  53.,  54.,  55.,  56.,  57.,  58.,  59.,  60.,\n",
              "           61.,  62.,  63.,  64.,  65.,  66.,  67.,  68.,  69.,  70.,  71.,  72.,\n",
              "           73.,  74.,  75.,  76.,  77.,  78.,  79.,  80.,  81.,  82.,  83.,  84.,\n",
              "           85.,  86.,  87.,  88.,  89.,  90.,  91.,  92.,  93.,  94.,  95.,  96.,\n",
              "           97.,  98.,  99., 100.]]),\n",
              " torch.Size([3, 100]))"
            ]
          },
          "metadata": {},
          "execution_count": 20
        }
      ]
    },
    {
      "cell_type": "code",
      "source": [
        "# Remove extra dimension from x_reshaped\n",
        "x_squeezed = x_stacked.squeeze()#No change as there is no dimension of size 1\n",
        "x_squeezed = x_stacked.squeeze(dim=1)#No change as there is no dimension of size 1\n",
        "x_squeezed = x_reshaped.squeeze(dim=1)#No change as there is no dimension of size 1\n",
        "x_reshaped2 = x.reshape(1,1,1,2,2,5,5)\n",
        "x_squeezed2 = x_reshaped2.squeeze(dim=1)#Deletes 1 dimension of size 1 (Previously it was 3) dimension of size 1\n",
        "x_squeezed2, x_squeezed2.shape"
      ],
      "metadata": {
        "colab": {
          "base_uri": "https://localhost:8080/"
        },
        "id": "BhP0vN4x_L9t",
        "outputId": "f2764ba4-559e-4a35-a8ff-a3f51b8d1618"
      },
      "execution_count": 32,
      "outputs": [
        {
          "output_type": "execute_result",
          "data": {
            "text/plain": [
              "(tensor([[[[[[  5.,   2.,   3.,   4.,   5.],\n",
              "             [  6.,   7.,   8.,   9.,  10.],\n",
              "             [ 11.,  12.,  13.,  14.,  15.],\n",
              "             [ 16.,  17.,  18.,  19.,  20.],\n",
              "             [ 21.,  22.,  23.,  24.,  25.]],\n",
              " \n",
              "            [[ 26.,  27.,  28.,  29.,  30.],\n",
              "             [ 31.,  32.,  33.,  34.,  35.],\n",
              "             [ 36.,  37.,  38.,  39.,  40.],\n",
              "             [ 41.,  42.,  43.,  44.,  45.],\n",
              "             [ 46.,  47.,  48.,  49.,  50.]]],\n",
              " \n",
              " \n",
              "           [[[ 51.,  52.,  53.,  54.,  55.],\n",
              "             [ 56.,  57.,  58.,  59.,  60.],\n",
              "             [ 61.,  62.,  63.,  64.,  65.],\n",
              "             [ 66.,  67.,  68.,  69.,  70.],\n",
              "             [ 71.,  72.,  73.,  74.,  75.]],\n",
              " \n",
              "            [[ 76.,  77.,  78.,  79.,  80.],\n",
              "             [ 81.,  82.,  83.,  84.,  85.],\n",
              "             [ 86.,  87.,  88.,  89.,  90.],\n",
              "             [ 91.,  92.,  93.,  94.,  95.],\n",
              "             [ 96.,  97.,  98.,  99., 100.]]]]]]),\n",
              " torch.Size([1, 1, 2, 2, 5, 5]))"
            ]
          },
          "metadata": {},
          "execution_count": 32
        }
      ]
    },
    {
      "cell_type": "code",
      "source": [
        "# Add an extra dimension with unsqueeze\n",
        "x_unsqueezed = x_squeezed.unsqueeze(dim=0)\n",
        "x_unsqueezed, x_unsqueezed.shape"
      ],
      "metadata": {
        "colab": {
          "base_uri": "https://localhost:8080/"
        },
        "id": "w5xzd2Ii_nAC",
        "outputId": "6f585f78-6597-464d-ccfe-4192c181b164"
      },
      "execution_count": 27,
      "outputs": [
        {
          "output_type": "execute_result",
          "data": {
            "text/plain": [
              "(tensor([[[[[  5.,   2.,   3.,   4.,   5.],\n",
              "            [  6.,   7.,   8.,   9.,  10.],\n",
              "            [ 11.,  12.,  13.,  14.,  15.],\n",
              "            [ 16.,  17.,  18.,  19.,  20.],\n",
              "            [ 21.,  22.,  23.,  24.,  25.]],\n",
              " \n",
              "           [[ 26.,  27.,  28.,  29.,  30.],\n",
              "            [ 31.,  32.,  33.,  34.,  35.],\n",
              "            [ 36.,  37.,  38.,  39.,  40.],\n",
              "            [ 41.,  42.,  43.,  44.,  45.],\n",
              "            [ 46.,  47.,  48.,  49.,  50.]]],\n",
              " \n",
              " \n",
              "          [[[ 51.,  52.,  53.,  54.,  55.],\n",
              "            [ 56.,  57.,  58.,  59.,  60.],\n",
              "            [ 61.,  62.,  63.,  64.,  65.],\n",
              "            [ 66.,  67.,  68.,  69.,  70.],\n",
              "            [ 71.,  72.,  73.,  74.,  75.]],\n",
              " \n",
              "           [[ 76.,  77.,  78.,  79.,  80.],\n",
              "            [ 81.,  82.,  83.,  84.,  85.],\n",
              "            [ 86.,  87.,  88.,  89.,  90.],\n",
              "            [ 91.,  92.,  93.,  94.,  95.],\n",
              "            [ 96.,  97.,  98.,  99., 100.]]]]]),\n",
              " torch.Size([1, 2, 2, 5, 5]))"
            ]
          },
          "metadata": {},
          "execution_count": 27
        }
      ]
    },
    {
      "cell_type": "code",
      "source": [
        "# To change the position of the dimensions Permute is used\n",
        "# Create tensor with specific shape\n",
        "x_original = torch.rand(size=(224, 224, 3))\n",
        "\n",
        "# Permute the original tensor to rearrange the axis order\n",
        "x_permuted = x_original.permute(2, 0, 1) # shifts axis 0->1, 1->2, 2->0\n",
        "x_permuted, x_permuted.shape"
      ],
      "metadata": {
        "colab": {
          "base_uri": "https://localhost:8080/"
        },
        "id": "iYl45AmPE4i2",
        "outputId": "56ea7174-015b-4031-c867-fc9f71eba88c"
      },
      "execution_count": 31,
      "outputs": [
        {
          "output_type": "execute_result",
          "data": {
            "text/plain": [
              "(tensor([[[0.1783, 0.6030, 0.8992,  ..., 0.5292, 0.8818, 0.3187],\n",
              "          [0.0035, 0.7748, 0.9046,  ..., 0.0570, 0.7450, 0.7444],\n",
              "          [0.4878, 0.2100, 0.6676,  ..., 0.9207, 0.7554, 0.4190],\n",
              "          ...,\n",
              "          [0.3658, 0.1195, 0.9950,  ..., 0.1966, 0.5990, 0.1575],\n",
              "          [0.1272, 0.0915, 0.6221,  ..., 0.7180, 0.1558, 0.0045],\n",
              "          [0.4201, 0.6458, 0.1050,  ..., 0.8083, 0.4406, 0.1997]],\n",
              " \n",
              "         [[0.4693, 0.3284, 0.2153,  ..., 0.0852, 0.6656, 0.6704],\n",
              "          [0.1792, 0.5663, 0.3717,  ..., 0.2591, 0.6906, 0.2798],\n",
              "          [0.0832, 0.2282, 0.0964,  ..., 0.1763, 0.0286, 0.9204],\n",
              "          ...,\n",
              "          [0.4662, 0.6223, 0.9335,  ..., 0.8285, 0.1261, 0.3387],\n",
              "          [0.2716, 0.4090, 0.5059,  ..., 0.9728, 0.2009, 0.0771],\n",
              "          [0.7208, 0.6750, 0.6350,  ..., 0.0296, 0.4072, 0.7067]],\n",
              " \n",
              "         [[0.9267, 0.7568, 0.1347,  ..., 0.4097, 0.3948, 0.9424],\n",
              "          [0.9481, 0.3546, 0.4594,  ..., 0.3637, 0.3275, 0.4807],\n",
              "          [0.5893, 0.9707, 0.7860,  ..., 0.4536, 0.2863, 0.0043],\n",
              "          ...,\n",
              "          [0.7982, 0.1560, 0.4843,  ..., 0.9162, 0.4271, 0.7759],\n",
              "          [0.1481, 0.7734, 0.2534,  ..., 0.8808, 0.0233, 0.9060],\n",
              "          [0.6978, 0.7544, 0.8038,  ..., 0.6321, 0.8225, 0.6556]]]),\n",
              " torch.Size([3, 224, 224]))"
            ]
          },
          "metadata": {},
          "execution_count": 31
        }
      ]
    },
    {
      "cell_type": "code",
      "source": [
        "x_original[0,0,0]=111\n",
        "x_original[0,0,0],x_permuted"
      ],
      "metadata": {
        "colab": {
          "base_uri": "https://localhost:8080/"
        },
        "id": "wDKOVvmDFLr8",
        "outputId": "b5eb25e8-ae3c-4943-c9b9-cafe9a7e5e13"
      },
      "execution_count": 34,
      "outputs": [
        {
          "output_type": "execute_result",
          "data": {
            "text/plain": [
              "(tensor(111.),\n",
              " tensor([[[1.1100e+02, 6.0300e-01, 8.9924e-01,  ..., 5.2917e-01,\n",
              "           8.8178e-01, 3.1872e-01],\n",
              "          [3.5288e-03, 7.7476e-01, 9.0457e-01,  ..., 5.7013e-02,\n",
              "           7.4498e-01, 7.4443e-01],\n",
              "          [4.8775e-01, 2.0997e-01, 6.6761e-01,  ..., 9.2070e-01,\n",
              "           7.5541e-01, 4.1903e-01],\n",
              "          ...,\n",
              "          [3.6580e-01, 1.1946e-01, 9.9499e-01,  ..., 1.9656e-01,\n",
              "           5.9899e-01, 1.5754e-01],\n",
              "          [1.2723e-01, 9.1494e-02, 6.2215e-01,  ..., 7.1800e-01,\n",
              "           1.5579e-01, 4.5336e-03],\n",
              "          [4.2008e-01, 6.4584e-01, 1.0500e-01,  ..., 8.0825e-01,\n",
              "           4.4060e-01, 1.9966e-01]],\n",
              " \n",
              "         [[4.6932e-01, 3.2843e-01, 2.1532e-01,  ..., 8.5172e-02,\n",
              "           6.6565e-01, 6.7043e-01],\n",
              "          [1.7916e-01, 5.6625e-01, 3.7166e-01,  ..., 2.5906e-01,\n",
              "           6.9057e-01, 2.7978e-01],\n",
              "          [8.3189e-02, 2.2817e-01, 9.6415e-02,  ..., 1.7629e-01,\n",
              "           2.8562e-02, 9.2035e-01],\n",
              "          ...,\n",
              "          [4.6615e-01, 6.2228e-01, 9.3346e-01,  ..., 8.2850e-01,\n",
              "           1.2609e-01, 3.3874e-01],\n",
              "          [2.7162e-01, 4.0897e-01, 5.0591e-01,  ..., 9.7276e-01,\n",
              "           2.0093e-01, 7.7128e-02],\n",
              "          [7.2077e-01, 6.7498e-01, 6.3499e-01,  ..., 2.9609e-02,\n",
              "           4.0718e-01, 7.0668e-01]],\n",
              " \n",
              "         [[9.2669e-01, 7.5676e-01, 1.3470e-01,  ..., 4.0970e-01,\n",
              "           3.9478e-01, 9.4243e-01],\n",
              "          [9.4809e-01, 3.5458e-01, 4.5936e-01,  ..., 3.6369e-01,\n",
              "           3.2748e-01, 4.8066e-01],\n",
              "          [5.8930e-01, 9.7073e-01, 7.8602e-01,  ..., 4.5360e-01,\n",
              "           2.8630e-01, 4.2518e-03],\n",
              "          ...,\n",
              "          [7.9820e-01, 1.5600e-01, 4.8435e-01,  ..., 9.1623e-01,\n",
              "           4.2714e-01, 7.7586e-01],\n",
              "          [1.4807e-01, 7.7340e-01, 2.5338e-01,  ..., 8.8083e-01,\n",
              "           2.3337e-02, 9.0595e-01],\n",
              "          [6.9785e-01, 7.5435e-01, 8.0375e-01,  ..., 6.3214e-01,\n",
              "           8.2246e-01, 6.5558e-01]]]))"
            ]
          },
          "metadata": {},
          "execution_count": 34
        }
      ]
    },
    {
      "cell_type": "markdown",
      "source": [
        "## Indexing in Tensors"
      ],
      "metadata": {
        "id": "xl1D2GGaHWKL"
      }
    },
    {
      "cell_type": "code",
      "source": [
        "# create a tensor\n",
        "x = torch.arange(1,101).reshape(1,2,2,5,5)\n",
        "x, x.shape"
      ],
      "metadata": {
        "colab": {
          "base_uri": "https://localhost:8080/"
        },
        "id": "_wGQzYrIH2Fi",
        "outputId": "77643fae-5263-42df-83e1-efd09286bbaa"
      },
      "execution_count": 35,
      "outputs": [
        {
          "output_type": "execute_result",
          "data": {
            "text/plain": [
              "(tensor([[[[[  1,   2,   3,   4,   5],\n",
              "            [  6,   7,   8,   9,  10],\n",
              "            [ 11,  12,  13,  14,  15],\n",
              "            [ 16,  17,  18,  19,  20],\n",
              "            [ 21,  22,  23,  24,  25]],\n",
              " \n",
              "           [[ 26,  27,  28,  29,  30],\n",
              "            [ 31,  32,  33,  34,  35],\n",
              "            [ 36,  37,  38,  39,  40],\n",
              "            [ 41,  42,  43,  44,  45],\n",
              "            [ 46,  47,  48,  49,  50]]],\n",
              " \n",
              " \n",
              "          [[[ 51,  52,  53,  54,  55],\n",
              "            [ 56,  57,  58,  59,  60],\n",
              "            [ 61,  62,  63,  64,  65],\n",
              "            [ 66,  67,  68,  69,  70],\n",
              "            [ 71,  72,  73,  74,  75]],\n",
              " \n",
              "           [[ 76,  77,  78,  79,  80],\n",
              "            [ 81,  82,  83,  84,  85],\n",
              "            [ 86,  87,  88,  89,  90],\n",
              "            [ 91,  92,  93,  94,  95],\n",
              "            [ 96,  97,  98,  99, 100]]]]]),\n",
              " torch.Size([1, 2, 2, 5, 5]))"
            ]
          },
          "metadata": {},
          "execution_count": 35
        }
      ]
    },
    {
      "cell_type": "code",
      "source": [
        "x[0][1][0][3]"
      ],
      "metadata": {
        "colab": {
          "base_uri": "https://localhost:8080/"
        },
        "id": "piDthme9IWZ5",
        "outputId": "9ae3ba86-7c11-407c-b054-b9a3f6b711e7"
      },
      "execution_count": 41,
      "outputs": [
        {
          "output_type": "execute_result",
          "data": {
            "text/plain": [
              "tensor([66, 67, 68, 69, 70])"
            ]
          },
          "metadata": {},
          "execution_count": 41
        }
      ]
    },
    {
      "cell_type": "code",
      "source": [
        "# Get all values of 0th dimension and the 0 index of 1st dimension\n",
        "x[:, 0]\n"
      ],
      "metadata": {
        "colab": {
          "base_uri": "https://localhost:8080/"
        },
        "id": "XEWNMSbLIaBh",
        "outputId": "13434877-c164-40b9-a5d2-f4910a86a5d4"
      },
      "execution_count": 48,
      "outputs": [
        {
          "output_type": "execute_result",
          "data": {
            "text/plain": [
              "tensor([[[[ 1,  2,  3,  4,  5],\n",
              "          [ 6,  7,  8,  9, 10],\n",
              "          [11, 12, 13, 14, 15],\n",
              "          [16, 17, 18, 19, 20],\n",
              "          [21, 22, 23, 24, 25]],\n",
              "\n",
              "         [[26, 27, 28, 29, 30],\n",
              "          [31, 32, 33, 34, 35],\n",
              "          [36, 37, 38, 39, 40],\n",
              "          [41, 42, 43, 44, 45],\n",
              "          [46, 47, 48, 49, 50]]]])"
            ]
          },
          "metadata": {},
          "execution_count": 48
        }
      ]
    },
    {
      "cell_type": "code",
      "source": [
        "# Get all values of 0th & 1st dimensions but only index 0 of 2nd dimension\n",
        "x[:, :, 0]"
      ],
      "metadata": {
        "colab": {
          "base_uri": "https://localhost:8080/"
        },
        "id": "rwyOwTWYJmkB",
        "outputId": "b2491344-21f7-4f5f-ebc7-0836622d4b68"
      },
      "execution_count": 47,
      "outputs": [
        {
          "output_type": "execute_result",
          "data": {
            "text/plain": [
              "tensor([[[[ 1,  2,  3,  4,  5],\n",
              "          [ 6,  7,  8,  9, 10],\n",
              "          [11, 12, 13, 14, 15],\n",
              "          [16, 17, 18, 19, 20],\n",
              "          [21, 22, 23, 24, 25]],\n",
              "\n",
              "         [[51, 52, 53, 54, 55],\n",
              "          [56, 57, 58, 59, 60],\n",
              "          [61, 62, 63, 64, 65],\n",
              "          [66, 67, 68, 69, 70],\n",
              "          [71, 72, 73, 74, 75]]]])"
            ]
          },
          "metadata": {},
          "execution_count": 47
        }
      ]
    },
    {
      "cell_type": "code",
      "source": [
        "# Get all values of 0th, 1st and 2nd dimensions but only index 0 of 3rd dimension\n",
        "x[:, :, :, 0]"
      ],
      "metadata": {
        "colab": {
          "base_uri": "https://localhost:8080/"
        },
        "id": "Y58AsOsEKB0H",
        "outputId": "cce6fcd9-e140-49ff-9e33-55eb80a8b605"
      },
      "execution_count": 49,
      "outputs": [
        {
          "output_type": "execute_result",
          "data": {
            "text/plain": [
              "tensor([[[[ 1,  2,  3,  4,  5],\n",
              "          [26, 27, 28, 29, 30]],\n",
              "\n",
              "         [[51, 52, 53, 54, 55],\n",
              "          [76, 77, 78, 79, 80]]]])"
            ]
          },
          "metadata": {},
          "execution_count": 49
        }
      ]
    },
    {
      "cell_type": "code",
      "source": [
        "# Get all values of 0th, 1st , 2nd ,3rd dimensions but only index 0 of 4th dimension\n",
        "x[:, :, :, :, 0] #This creates a 1-dimensional tensor (also known as a vector).It represents a sequence of one numerical value.\n",
        "\n",
        "#it it similar to the following except shape\n",
        "x[0][0][0][0][0] #his creates a 0-dimensional tensor (also known as a scalar). It represents a single numerical value.\n",
        "x[:, :, :, :, 0].shape, x[0][0][0][0][0].shape"
      ],
      "metadata": {
        "colab": {
          "base_uri": "https://localhost:8080/"
        },
        "id": "SJFvVI-rKhIC",
        "outputId": "493f78a6-aa8e-465e-9b88-b819c1a81377"
      },
      "execution_count": 54,
      "outputs": [
        {
          "output_type": "execute_result",
          "data": {
            "text/plain": [
              "(torch.Size([1, 2, 2, 5]), torch.Size([]))"
            ]
          },
          "metadata": {},
          "execution_count": 54
        }
      ]
    },
    {
      "cell_type": "code",
      "source": [
        "#tutorial task diff solution\n",
        "x2 = torch.arange(1, 10).reshape(1, 3, 3)\n",
        "x2[0,:,2]"
      ],
      "metadata": {
        "colab": {
          "base_uri": "https://localhost:8080/"
        },
        "id": "I30M3YWfKwPH",
        "outputId": "68859c26-9a1a-4e88-f029-53d3989fc974"
      },
      "execution_count": 57,
      "outputs": [
        {
          "output_type": "execute_result",
          "data": {
            "text/plain": [
              "tensor([[3, 6, 9]])"
            ]
          },
          "metadata": {},
          "execution_count": 57
        }
      ]
    },
    {
      "cell_type": "markdown",
      "source": [
        "## Pytorch tensors and numpy"
      ],
      "metadata": {
        "id": "SMoB7xRZNxgx"
      }
    },
    {
      "cell_type": "code",
      "source": [
        "# Numpy Array to tensors\n",
        "import torch\n",
        "import numpy as np\n",
        "\n",
        "array = np.arange(1.0,8.0)\n",
        "#tensor = torch.arange(1.0,8.0)\n",
        "tensor = torch.from_numpy(array).type(torch.float32)\n",
        "\n",
        "array,tensor.dtype"
      ],
      "metadata": {
        "colab": {
          "base_uri": "https://localhost:8080/"
        },
        "id": "WR6r8hc-OlmD",
        "outputId": "12ae2067-da2a-407d-80c0-4376475a3a72"
      },
      "execution_count": 63,
      "outputs": [
        {
          "output_type": "execute_result",
          "data": {
            "text/plain": [
              "(array([1., 2., 3., 4., 5., 6., 7.]), torch.float32)"
            ]
          },
          "metadata": {},
          "execution_count": 63
        }
      ]
    },
    {
      "cell_type": "code",
      "source": [
        "array.dtype #default for numpy"
      ],
      "metadata": {
        "colab": {
          "base_uri": "https://localhost:8080/"
        },
        "id": "NHpPIencPH84",
        "outputId": "4504a5d2-0369-496d-a1a3-aef387856463"
      },
      "execution_count": 61,
      "outputs": [
        {
          "output_type": "execute_result",
          "data": {
            "text/plain": [
              "dtype('float64')"
            ]
          },
          "metadata": {},
          "execution_count": 61
        }
      ]
    },
    {
      "cell_type": "code",
      "source": [
        "#TEnsor to numpy array\n",
        "\n",
        "tensor = torch.ones(7)\n",
        "numpy_tensor = tensor.numpy()\n",
        "tensor, numpy_tensor"
      ],
      "metadata": {
        "colab": {
          "base_uri": "https://localhost:8080/"
        },
        "id": "pG3LnDiKPcsC",
        "outputId": "8a6e5a17-eb5e-496d-8c76-e8ce0daeab06"
      },
      "execution_count": 64,
      "outputs": [
        {
          "output_type": "execute_result",
          "data": {
            "text/plain": [
              "(tensor([1., 1., 1., 1., 1., 1., 1.]),\n",
              " array([1., 1., 1., 1., 1., 1., 1.], dtype=float32))"
            ]
          },
          "metadata": {},
          "execution_count": 64
        }
      ]
    },
    {
      "cell_type": "markdown",
      "source": [
        "## Reproducability"
      ],
      "metadata": {
        "id": "WWOqTbfoQEYs"
      }
    },
    {
      "cell_type": "code",
      "source": [
        "  rnad_tensor_1=torch.rand(3,4)\n",
        "  rnad_tensor_2=torch.rand(3,4)\n",
        "  print(rnad_tensor_1)\n",
        "  print(rnad_tensor_2)\n",
        "  rnad_tensor_1 == rnad_tensor_2"
      ],
      "metadata": {
        "colab": {
          "base_uri": "https://localhost:8080/"
        },
        "id": "abH-_PyuTZvA",
        "outputId": "fa9c7028-4a85-48cf-966e-52ea44fa0cd9"
      },
      "execution_count": 67,
      "outputs": [
        {
          "output_type": "stream",
          "name": "stdout",
          "text": [
            "tensor([[0.8938, 0.1204, 0.4987, 0.5032],\n",
            "        [0.9406, 0.2601, 0.3234, 0.4945],\n",
            "        [0.5560, 0.9736, 0.1874, 0.3802]])\n",
            "tensor([[0.4575, 0.8156, 0.9433, 0.3682],\n",
            "        [0.4274, 0.3854, 0.3409, 0.5792],\n",
            "        [0.5717, 0.2564, 0.9607, 0.1108]])\n"
          ]
        },
        {
          "output_type": "execute_result",
          "data": {
            "text/plain": [
              "tensor([[False, False, False, False],\n",
              "        [False, False, False, False],\n",
              "        [False, False, False, False]])"
            ]
          },
          "metadata": {},
          "execution_count": 67
        }
      ]
    },
    {
      "cell_type": "code",
      "source": [
        "#random but reproducible tensor\n",
        "rand_seed = 42\n",
        "torch.manual_seed(rand_seed)\n",
        "\n",
        "rnad_tensor_3=torch.rand(3,4)\n",
        "torch.manual_seed(rand_seed) #have to use it every time\n",
        "rnad_tensor_4=torch.rand(3,4)\n",
        "print(rnad_tensor_4)\n",
        "print(rnad_tensor_3)\n",
        "rnad_tensor_3 == rnad_tensor_4"
      ],
      "metadata": {
        "colab": {
          "base_uri": "https://localhost:8080/"
        },
        "id": "P7_FTkQvWG0I",
        "outputId": "49667a8c-22fd-434f-a3fe-159ff77e9462"
      },
      "execution_count": 71,
      "outputs": [
        {
          "output_type": "stream",
          "name": "stdout",
          "text": [
            "tensor([[0.8823, 0.9150, 0.3829, 0.9593],\n",
            "        [0.3904, 0.6009, 0.2566, 0.7936],\n",
            "        [0.9408, 0.1332, 0.9346, 0.5936]])\n",
            "tensor([[0.8823, 0.9150, 0.3829, 0.9593],\n",
            "        [0.3904, 0.6009, 0.2566, 0.7936],\n",
            "        [0.9408, 0.1332, 0.9346, 0.5936]])\n"
          ]
        },
        {
          "output_type": "execute_result",
          "data": {
            "text/plain": [
              "tensor([[True, True, True, True],\n",
              "        [True, True, True, True],\n",
              "        [True, True, True, True]])"
            ]
          },
          "metadata": {},
          "execution_count": 71
        }
      ]
    },
    {
      "cell_type": "markdown",
      "source": [
        "## Running tensors on GPUs (and making faster computations)"
      ],
      "metadata": {
        "id": "DXW1bjXBWy5Q"
      }
    },
    {
      "cell_type": "code",
      "source": [
        "! nvidia-smi"
      ],
      "metadata": {
        "colab": {
          "base_uri": "https://localhost:8080/"
        },
        "id": "m8A0AZz1XTFi",
        "outputId": "4e92f850-cfa8-4e9d-94b6-a24b13c96af8"
      },
      "execution_count": 1,
      "outputs": [
        {
          "output_type": "stream",
          "name": "stdout",
          "text": [
            "Mon Apr 28 12:32:05 2025       \n",
            "+-----------------------------------------------------------------------------------------+\n",
            "| NVIDIA-SMI 550.54.15              Driver Version: 550.54.15      CUDA Version: 12.4     |\n",
            "|-----------------------------------------+------------------------+----------------------+\n",
            "| GPU  Name                 Persistence-M | Bus-Id          Disp.A | Volatile Uncorr. ECC |\n",
            "| Fan  Temp   Perf          Pwr:Usage/Cap |           Memory-Usage | GPU-Util  Compute M. |\n",
            "|                                         |                        |               MIG M. |\n",
            "|=========================================+========================+======================|\n",
            "|   0  Tesla T4                       Off |   00000000:00:04.0 Off |                    0 |\n",
            "| N/A   35C    P8              9W /   70W |       0MiB /  15360MiB |      0%      Default |\n",
            "|                                         |                        |                  N/A |\n",
            "+-----------------------------------------+------------------------+----------------------+\n",
            "                                                                                         \n",
            "+-----------------------------------------------------------------------------------------+\n",
            "| Processes:                                                                              |\n",
            "|  GPU   GI   CI        PID   Type   Process name                              GPU Memory |\n",
            "|        ID   ID                                                               Usage      |\n",
            "|=========================================================================================|\n",
            "|  No running processes found                                                             |\n",
            "+-----------------------------------------------------------------------------------------+\n"
          ]
        }
      ]
    },
    {
      "cell_type": "markdown",
      "source": [
        "### Getting PyTorch to run on the GPU"
      ],
      "metadata": {
        "id": "9uM_Zs6VYheN"
      }
    },
    {
      "cell_type": "code",
      "source": [
        "#check for gpu access with pytorch\n",
        "import torch\n",
        "torch.cuda.is_available()"
      ],
      "metadata": {
        "colab": {
          "base_uri": "https://localhost:8080/"
        },
        "id": "Rw_qggqtY2x9",
        "outputId": "4af574af-fa05-46be-afc8-bcdd3f0ea828"
      },
      "execution_count": 2,
      "outputs": [
        {
          "output_type": "execute_result",
          "data": {
            "text/plain": [
              "True"
            ]
          },
          "metadata": {},
          "execution_count": 2
        }
      ]
    },
    {
      "cell_type": "code",
      "source": [
        "#setup device agnostic code\n",
        "device=\"cuda\" if torch.cuda.is_available() else \"cpu\"\n",
        "device"
      ],
      "metadata": {
        "colab": {
          "base_uri": "https://localhost:8080/",
          "height": 35
        },
        "id": "_9DwYKqIZBzE",
        "outputId": "46252223-80a4-455b-e44f-08b721547d5a"
      },
      "execution_count": 3,
      "outputs": [
        {
          "output_type": "execute_result",
          "data": {
            "text/plain": [
              "'cuda'"
            ],
            "application/vnd.google.colaboratory.intrinsic+json": {
              "type": "string"
            }
          },
          "metadata": {},
          "execution_count": 3
        }
      ]
    },
    {
      "cell_type": "code",
      "source": [
        "#count the number of devices\n",
        "torch.cuda.device_count()"
      ],
      "metadata": {
        "colab": {
          "base_uri": "https://localhost:8080/"
        },
        "id": "jj2-STYXZM92",
        "outputId": "febc1dcd-35b2-4055-8ac1-dbf4102951ff"
      },
      "execution_count": 4,
      "outputs": [
        {
          "output_type": "execute_result",
          "data": {
            "text/plain": [
              "1"
            ]
          },
          "metadata": {},
          "execution_count": 4
        }
      ]
    },
    {
      "cell_type": "markdown",
      "source": [
        "### Putting tensors (and models) on the GPU"
      ],
      "metadata": {
        "id": "L-jeSfPJZT9_"
      }
    },
    {
      "cell_type": "code",
      "source": [
        "# create a tensor(default is on CPU)\n",
        "tensor = torch.tensor([1,2,3])\n",
        "# Tensor not on GPU\n",
        "print(tensor.device)"
      ],
      "metadata": {
        "colab": {
          "base_uri": "https://localhost:8080/"
        },
        "id": "a7mBWiKmZt-N",
        "outputId": "dab9682c-eccf-4ec7-80d4-e6770966f923"
      },
      "execution_count": 5,
      "outputs": [
        {
          "output_type": "stream",
          "name": "stdout",
          "text": [
            "cpu\n"
          ]
        }
      ]
    },
    {
      "cell_type": "code",
      "source": [
        "# move tensor to the gpu\n",
        "tensor_on_gpu = tensor.to(device)\n",
        "print(tensor_on_gpu.device)"
      ],
      "metadata": {
        "colab": {
          "base_uri": "https://localhost:8080/"
        },
        "id": "kPqHw5lVaj99",
        "outputId": "d55d4877-a37e-4070-98a7-e422c72b960c"
      },
      "execution_count": 9,
      "outputs": [
        {
          "output_type": "stream",
          "name": "stdout",
          "text": [
            "cuda:0\n"
          ]
        }
      ]
    },
    {
      "cell_type": "markdown",
      "source": [
        "### Moving tensors back to the CPU"
      ],
      "metadata": {
        "id": "b17wOv5jatxi"
      }
    },
    {
      "cell_type": "code",
      "source": [
        "# If tensor is on GPU, can't transform it to NumPy (this will error)\n",
        "tensor_on_gpu.numpy()"
      ],
      "metadata": {
        "colab": {
          "base_uri": "https://localhost:8080/",
          "height": 159
        },
        "id": "jTUhp3CObLa-",
        "outputId": "9fa50f06-0b30-417a-ce2c-3caada7df13d"
      },
      "execution_count": 10,
      "outputs": [
        {
          "output_type": "error",
          "ename": "TypeError",
          "evalue": "can't convert cuda:0 device type tensor to numpy. Use Tensor.cpu() to copy the tensor to host memory first.",
          "traceback": [
            "\u001b[0;31m---------------------------------------------------------------------------\u001b[0m",
            "\u001b[0;31mTypeError\u001b[0m                                 Traceback (most recent call last)",
            "\u001b[0;32m<ipython-input-10-53175578f49e>\u001b[0m in \u001b[0;36m<cell line: 0>\u001b[0;34m()\u001b[0m\n\u001b[1;32m      1\u001b[0m \u001b[0;31m# If tensor is on GPU, can't transform it to NumPy (this will error)\u001b[0m\u001b[0;34m\u001b[0m\u001b[0;34m\u001b[0m\u001b[0m\n\u001b[0;32m----> 2\u001b[0;31m \u001b[0mtensor_on_gpu\u001b[0m\u001b[0;34m.\u001b[0m\u001b[0mnumpy\u001b[0m\u001b[0;34m(\u001b[0m\u001b[0;34m)\u001b[0m\u001b[0;34m\u001b[0m\u001b[0;34m\u001b[0m\u001b[0m\n\u001b[0m",
            "\u001b[0;31mTypeError\u001b[0m: can't convert cuda:0 device type tensor to numpy. Use Tensor.cpu() to copy the tensor to host memory first."
          ]
        }
      ]
    },
    {
      "cell_type": "code",
      "source": [
        "# Instead, copy the tensor back to cpu\n",
        "tensor_back_on_cpu = tensor_on_gpu.cpu().numpy()\n",
        "tensor_back_on_cpu"
      ],
      "metadata": {
        "colab": {
          "base_uri": "https://localhost:8080/"
        },
        "id": "XPmGrULJbNPZ",
        "outputId": "0dd9e161-b726-4e91-cace-e3d639738d22"
      },
      "execution_count": 11,
      "outputs": [
        {
          "output_type": "execute_result",
          "data": {
            "text/plain": [
              "array([1, 2, 3])"
            ]
          },
          "metadata": {},
          "execution_count": 11
        }
      ]
    },
    {
      "cell_type": "code",
      "source": [
        "tensor_on_gpu"
      ],
      "metadata": {
        "colab": {
          "base_uri": "https://localhost:8080/"
        },
        "id": "i4-Fg5NGbg8G",
        "outputId": "51470310-3cfc-4589-8283-2c7f26a1d16c"
      },
      "execution_count": 14,
      "outputs": [
        {
          "output_type": "execute_result",
          "data": {
            "text/plain": [
              "tensor([1, 2, 3], device='cuda:0')"
            ]
          },
          "metadata": {},
          "execution_count": 14
        }
      ]
    },
    {
      "cell_type": "code",
      "source": [],
      "metadata": {
        "id": "o0HifysvbiCW"
      },
      "execution_count": null,
      "outputs": []
    }
  ]
}