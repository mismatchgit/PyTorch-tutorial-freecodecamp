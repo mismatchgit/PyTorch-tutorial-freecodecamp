{
  "nbformat": 4,
  "nbformat_minor": 0,
  "metadata": {
    "colab": {
      "provenance": [],
      "authorship_tag": "ABX9TyP1YJ7fIrhc/4lXHpkZb/aH",
      "include_colab_link": true
    },
    "kernelspec": {
      "name": "python3",
      "display_name": "Python 3"
    },
    "language_info": {
      "name": "python"
    }
  },
  "cells": [
    {
      "cell_type": "markdown",
      "metadata": {
        "id": "view-in-github",
        "colab_type": "text"
      },
      "source": [
        "<a href=\"https://colab.research.google.com/github/mismatchgit/PyTorch-tutorial-freecodecamp/blob/main/Pytorch_Fundamentals_Exercise_Solution_00.ipynb\" target=\"_parent\"><img src=\"https://colab.research.google.com/assets/colab-badge.svg\" alt=\"Open In Colab\"/></a>"
      ]
    },
    {
      "cell_type": "markdown",
      "source": [
        "##1 Documentation Reading"
      ],
      "metadata": {
        "id": "ThpkrEEEuTgm"
      }
    },
    {
      "cell_type": "markdown",
      "source": [
        "## 2 Create a random tensor with shape (7, 7)."
      ],
      "metadata": {
        "id": "g2NRM_ilxH9z"
      }
    },
    {
      "cell_type": "code",
      "source": [
        "import torch\n",
        "random_tensor = torch.rand(7, 7)\n",
        "print(random_tensor)"
      ],
      "metadata": {
        "colab": {
          "base_uri": "https://localhost:8080/"
        },
        "id": "9hwdrTOwxM0r",
        "outputId": "0dd53536-50fa-406b-9bc5-650eb52af264"
      },
      "execution_count": 4,
      "outputs": [
        {
          "output_type": "stream",
          "name": "stdout",
          "text": [
            "tensor([[0.5244, 0.5943, 0.1923, 0.8416, 0.2305, 0.2629, 0.3286],\n",
            "        [0.7882, 0.3281, 0.7909, 0.1008, 0.5670, 0.9414, 0.2254],\n",
            "        [0.8519, 0.8614, 0.3059, 0.3006, 0.0856, 0.1784, 0.1326],\n",
            "        [0.7273, 0.7378, 0.0351, 0.3835, 0.3354, 0.5081, 0.7816],\n",
            "        [0.2051, 0.7283, 0.5884, 0.2830, 0.5718, 0.3757, 0.9625],\n",
            "        [0.2396, 0.3895, 0.9330, 0.1968, 0.0082, 0.9241, 0.3237],\n",
            "        [0.1650, 0.1887, 0.9857, 0.6292, 0.5334, 0.8143, 0.4432]])\n"
          ]
        }
      ]
    },
    {
      "cell_type": "markdown",
      "source": [
        "# 3 Perform a matrix multiplication on the tensor from 2 with another random tensor with shape (1, 7)"
      ],
      "metadata": {
        "id": "b77embECxdWf"
      }
    },
    {
      "cell_type": "code",
      "source": [
        "another_random_tensor = torch.rand(1,7)\n",
        "result = torch.matmul(random_tensor, another_random_tensor.T)\n",
        "print(result)"
      ],
      "metadata": {
        "colab": {
          "base_uri": "https://localhost:8080/"
        },
        "id": "vSA4YcIUxozP",
        "outputId": "0151cee2-d08e-4bd6-98fd-2a505c0119dc"
      },
      "execution_count": 5,
      "outputs": [
        {
          "output_type": "stream",
          "name": "stdout",
          "text": [
            "tensor([[1.5076],\n",
            "        [2.1881],\n",
            "        [0.9929],\n",
            "        [1.5610],\n",
            "        [2.1069],\n",
            "        [2.1252],\n",
            "        [2.7323]])\n"
          ]
        }
      ]
    },
    {
      "cell_type": "markdown",
      "source": [
        "## 4 Set the random seed to 0 and do exercises 2 & 3 over again."
      ],
      "metadata": {
        "id": "FokZk-49xzgQ"
      }
    },
    {
      "cell_type": "code",
      "source": [
        "random_seed = 0\n",
        "torch.manual_seed(random_seed)\n",
        "random_tensor2 = torch.rand(7,7)\n",
        "\n",
        "torch.manual_seed(random_seed)\n",
        "another_random_tensor2 = torch.rand(1,7)\n",
        "result2 = torch.matmul(random_tensor2, another_random_tensor2.T)\n",
        "print(result2)"
      ],
      "metadata": {
        "colab": {
          "base_uri": "https://localhost:8080/"
        },
        "id": "wXFAKUmEx6Ne",
        "outputId": "784b1fb9-2d29-4925-8208-c0af4810936a"
      },
      "execution_count": 6,
      "outputs": [
        {
          "output_type": "stream",
          "name": "stdout",
          "text": [
            "tensor([[1.5985],\n",
            "        [1.1173],\n",
            "        [1.2741],\n",
            "        [1.6838],\n",
            "        [0.8279],\n",
            "        [1.0347],\n",
            "        [1.2498]])\n"
          ]
        }
      ]
    },
    {
      "cell_type": "markdown",
      "source": [
        "## 5 GPU equivalent for manual seed"
      ],
      "metadata": {
        "id": "WuYg8S8lzD3H"
      }
    },
    {
      "cell_type": "code",
      "source": [
        "torch.cuda.manual_seed(1234)"
      ],
      "metadata": {
        "id": "uNcIDqKp0fGt"
      },
      "execution_count": 9,
      "outputs": []
    },
    {
      "cell_type": "markdown",
      "source": [
        "## 6 Create two random tensors of shape (2, 3) and send them both to the GPU"
      ],
      "metadata": {
        "id": "7DHOQnty00It"
      }
    },
    {
      "cell_type": "code",
      "source": [
        "import torch\n",
        "\n",
        "torch.manual_seed(1234)\n",
        "random_tensor3= torch.rand(2,3)\n",
        "random_tensor4= torch.rand(2,3)\n",
        "device = \"cuda\" if torch.cuda.is_available() else \"cpu\"\n",
        "torch.cuda.manual_seed(1234)\n",
        "gpu_random_tensor3 = random_tensor3.to(device)\n",
        "gpu_random_tensor4 = random_tensor4.to(device)\n",
        "gpu_random_tensor3,gpu_random_tensor3.device"
      ],
      "metadata": {
        "colab": {
          "base_uri": "https://localhost:8080/"
        },
        "id": "haP1gLO110kP",
        "outputId": "b50cc76a-17e8-4daf-dca6-7f458435f939"
      },
      "execution_count": 22,
      "outputs": [
        {
          "output_type": "execute_result",
          "data": {
            "text/plain": [
              "(tensor([[0.0290, 0.4019, 0.2598],\n",
              "         [0.3666, 0.0583, 0.7006]], device='cuda:0'),\n",
              " device(type='cuda', index=0))"
            ]
          },
          "metadata": {},
          "execution_count": 22
        }
      ]
    },
    {
      "cell_type": "code",
      "source": [
        "# in the previous code cuda.manual_seed did not work. to make it work have to set it when generating\n",
        "device = \"cuda\" if torch.cuda.is_available() else \"cpu\"\n",
        "torch.cuda.manual_seed(1234)\n",
        "gpu_random_tensor6= torch.rand(2,3,device=device)\n",
        "\n",
        "gpu_random_tensor6\n"
      ],
      "metadata": {
        "colab": {
          "base_uri": "https://localhost:8080/"
        },
        "id": "302W7YVY7eS9",
        "outputId": "60ec2073-508f-45fd-da4e-2891ee08b528"
      },
      "execution_count": 28,
      "outputs": [
        {
          "output_type": "execute_result",
          "data": {
            "text/plain": [
              "tensor([[0.1272, 0.8167, 0.5440],\n",
              "        [0.6601, 0.2721, 0.9737]], device='cuda:0')"
            ]
          },
          "metadata": {},
          "execution_count": 28
        }
      ]
    },
    {
      "cell_type": "markdown",
      "source": [
        "## 7 Perform a matrix multiplication on the tensors you created in 6"
      ],
      "metadata": {
        "id": "ZGR0NGD32qnw"
      }
    },
    {
      "cell_type": "code",
      "source": [
        "result = torch.matmul(gpu_random_tensor3, gpu_random_tensor4.T)\n",
        "result, result.shape"
      ],
      "metadata": {
        "colab": {
          "base_uri": "https://localhost:8080/"
        },
        "id": "dXNvvTmS4iNX",
        "outputId": "7e4003e9-82e4-43ba-9d06-661bf6a45b21"
      },
      "execution_count": 12,
      "outputs": [
        {
          "output_type": "execute_result",
          "data": {
            "text/plain": [
              "(tensor([[0.3647, 0.4709],\n",
              "         [0.5184, 0.5617]], device='cuda:0'),\n",
              " torch.Size([2, 2]))"
            ]
          },
          "metadata": {},
          "execution_count": 12
        }
      ]
    },
    {
      "cell_type": "markdown",
      "source": [
        "## 8 Find the maximum and minimum values of the output of 7."
      ],
      "metadata": {
        "id": "xeOLiT3_4vIG"
      }
    },
    {
      "cell_type": "code",
      "source": [
        "result.max(), result.min()"
      ],
      "metadata": {
        "colab": {
          "base_uri": "https://localhost:8080/"
        },
        "id": "9tPZzbSn45MO",
        "outputId": "5e90c72f-6eb5-4dbd-ee91-7ebe1fc65dd0"
      },
      "execution_count": 15,
      "outputs": [
        {
          "output_type": "execute_result",
          "data": {
            "text/plain": [
              "(tensor(0.5617, device='cuda:0'), tensor(0.3647, device='cuda:0'))"
            ]
          },
          "metadata": {},
          "execution_count": 15
        }
      ]
    },
    {
      "cell_type": "markdown",
      "source": [
        "## 9 Find the maximum and minimum index values of the output of 7."
      ],
      "metadata": {
        "id": "XGnkyux54-wA"
      }
    },
    {
      "cell_type": "code",
      "source": [
        "result.argmax(), result.argmin()"
      ],
      "metadata": {
        "colab": {
          "base_uri": "https://localhost:8080/"
        },
        "id": "W3sGo4sQ5M61",
        "outputId": "ae684499-34c3-4620-81e3-f4e4efebee52"
      },
      "execution_count": 16,
      "outputs": [
        {
          "output_type": "execute_result",
          "data": {
            "text/plain": [
              "(tensor(3, device='cuda:0'), tensor(0, device='cuda:0'))"
            ]
          },
          "metadata": {},
          "execution_count": 16
        }
      ]
    },
    {
      "cell_type": "markdown",
      "source": [
        "## 10 Make a random tensor with shape (1, 1, 1, 10) and then create a new tensor with all the 1 dimensions removed to be left with a tensor of shape (10). Set the seed to 7 when you create it and print out the first tensor and it's shape as well as the second tensor and it's shape."
      ],
      "metadata": {
        "id": "uvUA_oGk5SNm"
      }
    },
    {
      "cell_type": "code",
      "source": [
        "torch.manual_seed(7)\n",
        "random_tensor5 = torch.rand(1,1,1,10)\n",
        "random_tensor5, random_tensor5.shape"
      ],
      "metadata": {
        "colab": {
          "base_uri": "https://localhost:8080/"
        },
        "id": "5RpJmtj65fwY",
        "outputId": "c0caa5a0-e840-46ac-af2d-17802fbcdc6b"
      },
      "execution_count": 20,
      "outputs": [
        {
          "output_type": "execute_result",
          "data": {
            "text/plain": [
              "(tensor([[[[0.5349, 0.1988, 0.6592, 0.6569, 0.2328, 0.4251, 0.2071, 0.6297,\n",
              "            0.3653, 0.8513]]]]),\n",
              " torch.Size([1, 1, 1, 10]))"
            ]
          },
          "metadata": {},
          "execution_count": 20
        }
      ]
    },
    {
      "cell_type": "code",
      "source": [
        "squeezed_random_tensor5 = random_tensor5.squeeze()\n",
        "squeezed_random_tensor5, squeezed_random_tensor5.shape"
      ],
      "metadata": {
        "colab": {
          "base_uri": "https://localhost:8080/"
        },
        "id": "zlRbYgzg5xID",
        "outputId": "230055e6-a328-4dc4-9809-2c2d60407c93"
      },
      "execution_count": 21,
      "outputs": [
        {
          "output_type": "execute_result",
          "data": {
            "text/plain": [
              "(tensor([0.5349, 0.1988, 0.6592, 0.6569, 0.2328, 0.4251, 0.2071, 0.6297, 0.3653,\n",
              "         0.8513]),\n",
              " torch.Size([10]))"
            ]
          },
          "metadata": {},
          "execution_count": 21
        }
      ]
    },
    {
      "cell_type": "code",
      "source": [],
      "metadata": {
        "id": "RcEAL8Fh56ZM"
      },
      "execution_count": null,
      "outputs": []
    }
  ]
}