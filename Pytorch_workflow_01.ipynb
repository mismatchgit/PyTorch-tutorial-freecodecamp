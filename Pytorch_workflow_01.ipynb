{
  "nbformat": 4,
  "nbformat_minor": 0,
  "metadata": {
    "colab": {
      "provenance": [],
      "authorship_tag": "ABX9TyOFhINtQIDoUW3Y3kMaeCuN",
      "include_colab_link": true
    },
    "kernelspec": {
      "name": "python3",
      "display_name": "Python 3"
    },
    "language_info": {
      "name": "python"
    }
  },
  "cells": [
    {
      "cell_type": "markdown",
      "metadata": {
        "id": "view-in-github",
        "colab_type": "text"
      },
      "source": [
        "<a href=\"https://colab.research.google.com/github/mismatchgit/PyTorch-tutorial-freecodecamp/blob/main/Pytorch_workflow_01.ipynb\" target=\"_parent\"><img src=\"https://colab.research.google.com/assets/colab-badge.svg\" alt=\"Open In Colab\"/></a>"
      ]
    },
    {
      "cell_type": "markdown",
      "source": [
        "#Pytorch Workflow"
      ],
      "metadata": {
        "id": "xoTmgQ9HLDP_"
      }
    },
    {
      "cell_type": "code",
      "source": [
        "import torch\n",
        "from torch import nn #building blocks of pytorch\n",
        "import matplotlib.pyplot as plt\n",
        "\n",
        "#check pytorch version\n",
        "torch.__version__"
      ],
      "metadata": {
        "colab": {
          "base_uri": "https://localhost:8080/",
          "height": 35
        },
        "id": "mCpVoRQtLP0F",
        "outputId": "1c5b7f75-9e3d-4cee-a00f-c86eb6c3b92a"
      },
      "execution_count": 1,
      "outputs": [
        {
          "output_type": "execute_result",
          "data": {
            "text/plain": [
              "'2.6.0+cu124'"
            ],
            "application/vnd.google.colaboratory.intrinsic+json": {
              "type": "string"
            }
          },
          "metadata": {},
          "execution_count": 1
        }
      ]
    },
    {
      "cell_type": "markdown",
      "source": [
        "## Data Preparing and loading"
      ],
      "metadata": {
        "id": "lQPha-EeMdKQ"
      }
    },
    {
      "cell_type": "code",
      "source": [
        "#linear regression\n",
        "w=0.7\n",
        "b=0.3\n",
        "\n",
        "#create\n",
        "start=0\n",
        "end=1\n",
        "step=0.01\n",
        "X = torch.arange(start,end,step).unsqueeze(dim=1)\n",
        "y = (w*X) + b\n",
        "\n",
        "X[:10], y[:10],len(X),len(y)"
      ],
      "metadata": {
        "colab": {
          "base_uri": "https://localhost:8080/"
        },
        "id": "r9fMAd_OM3ua",
        "outputId": "d1ef544c-2073-4d49-e9c8-ba91c91119d3"
      },
      "execution_count": 5,
      "outputs": [
        {
          "output_type": "execute_result",
          "data": {
            "text/plain": [
              "(tensor([[0.0000],\n",
              "         [0.0100],\n",
              "         [0.0200],\n",
              "         [0.0300],\n",
              "         [0.0400],\n",
              "         [0.0500],\n",
              "         [0.0600],\n",
              "         [0.0700],\n",
              "         [0.0800],\n",
              "         [0.0900]]),\n",
              " tensor([[0.3000],\n",
              "         [0.3070],\n",
              "         [0.3140],\n",
              "         [0.3210],\n",
              "         [0.3280],\n",
              "         [0.3350],\n",
              "         [0.3420],\n",
              "         [0.3490],\n",
              "         [0.3560],\n",
              "         [0.3630]]),\n",
              " 100,\n",
              " 100)"
            ]
          },
          "metadata": {},
          "execution_count": 5
        }
      ]
    },
    {
      "cell_type": "markdown",
      "source": [
        "## Splitting the Dta into train, validation, test"
      ],
      "metadata": {
        "id": "YbKHl8XiOtpt"
      }
    },
    {
      "cell_type": "code",
      "source": [
        "#create a train test split\n",
        "train_split = int(.8*len(X))\n",
        "X_train, y_train = X[:train_split], y[:train_split]\n",
        "X_test, y_test = X[train_split:], y[train_split:]\n",
        "len(X_test), len(y_train)"
      ],
      "metadata": {
        "colab": {
          "base_uri": "https://localhost:8080/"
        },
        "id": "vZSYz6VkQAvt",
        "outputId": "173b3d36-87aa-4a7c-c37f-19f997edac9a"
      },
      "execution_count": 9,
      "outputs": [
        {
          "output_type": "execute_result",
          "data": {
            "text/plain": [
              "(20, 80)"
            ]
          },
          "metadata": {},
          "execution_count": 9
        }
      ]
    },
    {
      "cell_type": "markdown",
      "source": [
        "### Visualization"
      ],
      "metadata": {
        "id": "AotjJ5rzTYnL"
      }
    },
    {
      "cell_type": "code",
      "source": [
        "def plot_prediction(train_data =X_train,\n",
        "                       train_labels=y_train,\n",
        "                       test_data=X_test,\n",
        "                       test_labels=y_test,\n",
        "                       predictions=None):\n",
        "\n",
        "  plt.figure(figsize=(10,7))\n",
        "\n",
        "  #Plot training data in blue\n",
        "  plt.scatter(train_data,train_labels,c=\"b\",s=4,label=\"Training data\")\n",
        "\n",
        "  #plot test data in green\n",
        "  plt.scatter(test_data,test_labels,c=\"g\",s=4,label=\"Test Data\")\n",
        "\n",
        "  if predictions is not None:\n",
        "    plt.scatter(test_data,predictions, c=\"r\", s=4, label=\"predictions\")\n",
        "\n",
        "  plt.legend(prop={\"size\":14});\n",
        "plot_prediction();"
      ],
      "metadata": {
        "colab": {
          "base_uri": "https://localhost:8080/",
          "height": 599
        },
        "id": "9sSMFUWXSEU8",
        "outputId": "54c417a6-5382-4939-f252-ec9df486d9c2"
      },
      "execution_count": 21,
      "outputs": [
        {
          "output_type": "display_data",
          "data": {
            "text/plain": [
              "<Figure size 1000x700 with 1 Axes>"
            ],
            "image/png": "[encoded data removed]"
          },
          "metadata": {}
        }
      ]
    },
    {
      "cell_type": "markdown",
      "source": [
        "## Building first model"
      ],
      "metadata": {
        "id": "dnGCzl2VUJpf"
      }
    },
    {
      "cell_type": "code",
      "source": [
        "# create linear regression model\n",
        "class LinearRegressionModel(nn.Module):\n",
        "  def __init__(self):\n",
        "    super().__init__()\n",
        "\n",
        "    #initialize model parameters\n",
        "    self.weight = nn.Parameter(torch.randn(1,\n",
        "                                            requires_grad=True,\n",
        "                                            dtype=torch.float32))\n",
        "    self.bias = nn.Parameter(torch.randn(1,\n",
        "                                        requires_grad= True,\n",
        "                                        dtype=torch.float32))\n",
        "    #forward method to define the computation in the model\n",
        "    def forward(self, x: torch.Tensor) -> torch.Tensor: #x is the input\n",
        "      return self.weights * x + self.bias #linear regression output"
      ],
      "metadata": {
        "id": "84DXYhWVWErL"
      },
      "execution_count": 23,
      "outputs": []
    },
    {
      "cell_type": "markdown",
      "source": [
        "### Pytorch Model Building essentials"
      ],
      "metadata": {
        "id": "-MNHICu-dKFs"
      }
    },
    {
      "cell_type": "markdown",
      "source": [
        "https://www.learnpytorch.io/01_pytorch_workflow/#pytorch-model-building-essentialsMM"
      ],
      "metadata": {
        "id": "9JsoJOvDdYHa"
      }
    },
    {
      "cell_type": "markdown",
      "source": [
        "### checking the contents of the Model"
      ],
      "metadata": {
        "id": "Bg7D2ppxdo4R"
      }
    },
    {
      "cell_type": "code",
      "source": [
        "#create a random seed\n",
        "torch.manual_seed(42)\n",
        "\n",
        "#create and istance of the model\n",
        "model_0 = LinearRegressionModel()\n",
        "\n",
        "#check out the params\n",
        "model_0.parameters\n",
        "\n",
        "#check the model parameters\n",
        "list(model_0.parameters())"
      ],
      "metadata": {
        "colab": {
          "base_uri": "https://localhost:8080/"
        },
        "id": "9Aubt9u_fH5n",
        "outputId": "ac3ac6f0-60e8-4a71-fde8-58d94f33ebd4"
      },
      "execution_count": 26,
      "outputs": [
        {
          "output_type": "execute_result",
          "data": {
            "text/plain": [
              "[Parameter containing:\n",
              " tensor([0.3367], requires_grad=True),\n",
              " Parameter containing:\n",
              " tensor([0.1288], requires_grad=True)]"
            ]
          },
          "metadata": {},
          "execution_count": 26
        }
      ]
    },
    {
      "cell_type": "code",
      "source": [
        "#list the named parameters\n",
        "model_0.state_dict()"
      ],
      "metadata": {
        "colab": {
          "base_uri": "https://localhost:8080/"
        },
        "id": "5PdyyqrGfb4a",
        "outputId": "b6eb6e92-85fe-4452-ed08-f7ba702a2b0a"
      },
      "execution_count": 27,
      "outputs": [
        {
          "output_type": "execute_result",
          "data": {
            "text/plain": [
              "OrderedDict([('weight', tensor([0.3367])), ('bias', tensor([0.1288]))])"
            ]
          },
          "metadata": {},
          "execution_count": 27
        }
      ]
    },
    {
      "cell_type": "code",
      "source": [],
      "metadata": {
        "id": "w4oOqJvmgD88"
      },
      "execution_count": null,
      "outputs": []
    }
  ]
}